{
 "cells": [
  {
   "cell_type": "code",
   "execution_count": 1,
   "id": "9cdb82cf",
   "metadata": {},
   "outputs": [],
   "source": [
    "import numpy as np\n",
    "import sympy as sp\n",
    "sp.init_printing()\n",
    "import matplotlib.pyplot as plt"
   ]
  },
  {
   "cell_type": "code",
   "execution_count": 2,
   "id": "4d8cb3d9",
   "metadata": {},
   "outputs": [],
   "source": [
    "a,r,θ,ϕ,M,Q,L = sp.symbols('a,r,θ,ϕ,M,Q,L')"
   ]
  },
  {
   "cell_type": "code",
   "execution_count": 3,
   "id": "b0f8d6fb",
   "metadata": {},
   "outputs": [
    {
     "data": {
      "image/png": "[encoded data removed]",
      "text/latex": [
       "$\\displaystyle - \\frac{2 M r^{2}}{\\left(Q^{2} + r^{2}\\right)^{1.5}} + \\frac{Q^{2} r^{2}}{\\left(Q^{2} + r^{2}\\right)^{2}} + 1$"
      ],
      "text/plain": [
       "                  -1.5      2  2       \n",
       "       2 ⎛ 2    2⎞         Q ⋅r        \n",
       "- 2⋅M⋅r ⋅⎝Q  + r ⎠     + ────────── + 1\n",
       "                                  2    \n",
       "                         ⎛ 2    2⎞     \n",
       "                         ⎝Q  + r ⎠     "
      ]
     },
     "execution_count": 3,
     "metadata": {},
     "output_type": "execute_result"
    }
   ],
   "source": [
    "f = (1-2*M*r**2/((r**2+Q**2)**(3/2))+r**2*Q**2/((r**2+Q**2)**2))\n",
    "f"
   ]
  },
  {
   "cell_type": "markdown",
   "id": "463df2b3",
   "metadata": {},
   "source": [
    "# Non-rotating ABG BH metric tensors"
   ]
  },
  {
   "cell_type": "code",
   "execution_count": 7,
   "id": "9cece427",
   "metadata": {},
   "outputs": [
    {
     "data": {
      "image/png": "[encoded data removed]",
      "text/latex": [
       "$\\displaystyle - \\frac{2 M r^{2}}{\\left(Q^{2} + r^{2}\\right)^{1.5}} + \\frac{Q^{2} r^{2}}{\\left(Q^{2} + r^{2}\\right)^{2}} + 1$"
      ],
      "text/plain": [
       "                  -1.5      2  2       \n",
       "       2 ⎛ 2    2⎞         Q ⋅r        \n",
       "- 2⋅M⋅r ⋅⎝Q  + r ⎠     + ────────── + 1\n",
       "                                  2    \n",
       "                         ⎛ 2    2⎞     \n",
       "                         ⎝Q  + r ⎠     "
      ]
     },
     "execution_count": 7,
     "metadata": {},
     "output_type": "execute_result"
    }
   ],
   "source": [
    "gtt = f \n",
    "gtr = 0 \n",
    "gtθ = 0 \n",
    "gtϕ = 0\n",
    "\n",
    "gtt"
   ]
  },
  {
   "cell_type": "code",
   "execution_count": 8,
   "id": "47d83721",
   "metadata": {},
   "outputs": [
    {
     "data": {
      "image/png": "[encoded data removed]",
      "text/latex": [
       "$\\displaystyle \\frac{1}{- \\frac{2 M r^{2}}{\\left(Q^{2} + r^{2}\\right)^{1.5}} + \\frac{Q^{2} r^{2}}{\\left(Q^{2} + r^{2}\\right)^{2}} + 1}$"
      ],
      "text/plain": [
       "                   1                   \n",
       "───────────────────────────────────────\n",
       "                  -1.5      2  2       \n",
       "       2 ⎛ 2    2⎞         Q ⋅r        \n",
       "- 2⋅M⋅r ⋅⎝Q  + r ⎠     + ────────── + 1\n",
       "                                  2    \n",
       "                         ⎛ 2    2⎞     \n",
       "                         ⎝Q  + r ⎠     "
      ]
     },
     "execution_count": 8,
     "metadata": {},
     "output_type": "execute_result"
    }
   ],
   "source": [
    "grt = 0\n",
    "grr = 1/f \n",
    "grθ = 0\n",
    "grϕ = 0\n",
    "\n",
    "grr"
   ]
  },
  {
   "cell_type": "code",
   "execution_count": 9,
   "id": "c2c25c84",
   "metadata": {},
   "outputs": [
    {
     "data": {
      "image/png": "[encoded data removed]",
      "text/latex": [
       "$\\displaystyle r^{2}$"
      ],
      "text/plain": [
       " 2\n",
       "r "
      ]
     },
     "execution_count": 9,
     "metadata": {},
     "output_type": "execute_result"
    }
   ],
   "source": [
    "gθt = 0\n",
    "gθr = 0\n",
    "gθθ = r**2\n",
    "gθϕ = 0\n",
    "\n",
    "gθθ "
   ]
  },
  {
   "cell_type": "code",
   "execution_count": 10,
   "id": "0612c8a0",
   "metadata": {},
   "outputs": [
    {
     "data": {
      "image/png": "[encoded data removed]",
      "text/latex": [
       "$\\displaystyle r^{2} \\sin^{2}{\\left(θ \\right)}$"
      ],
      "text/plain": [
       " 2    2   \n",
       "r ⋅sin (θ)"
      ]
     },
     "execution_count": 10,
     "metadata": {},
     "output_type": "execute_result"
    }
   ],
   "source": [
    "gφt = 0 \n",
    "gφr = 0 \n",
    "gφθ = 0 \n",
    "gϕϕ = r**2 * sp.sin(θ)**2 \n",
    "\n",
    "gϕϕ"
   ]
  },
  {
   "cell_type": "markdown",
   "id": "d50a50ec",
   "metadata": {},
   "source": [
    "# Rotating ABG BH metric tensors"
   ]
  },
  {
   "cell_type": "code",
   "execution_count": 19,
   "id": "a4440e8f",
   "metadata": {},
   "outputs": [
    {
     "data": {
      "image/png": "[encoded data removed]",
      "text/latex": [
       "$\\displaystyle a^{2} \\cos^{2}{\\left(θ \\right)} + r^{2}$"
      ],
      "text/plain": [
       " 2    2       2\n",
       "a ⋅cos (θ) + r "
      ]
     },
     "execution_count": 19,
     "metadata": {},
     "output_type": "execute_result"
    }
   ],
   "source": [
    "Σ1 = a**2 * sp.cos(θ)**2 + r**2 \n",
    "Σ1"
   ]
  },
  {
   "cell_type": "code",
   "execution_count": 20,
   "id": "1afdb51d",
   "metadata": {},
   "outputs": [
    {
     "data": {
      "image/png": "[encoded data removed]",
      "text/latex": [
       "$\\displaystyle - \\frac{2 M r \\sqrt{a^{2} \\cos^{2}{\\left(θ \\right)} + r^{2}}}{\\left(Q^{2} + a^{2} \\cos^{2}{\\left(θ \\right)} + r^{2}\\right)^{1.5}} + \\frac{Q^{2} \\left(a^{2} \\cos^{2}{\\left(θ \\right)} + r^{2}\\right)}{\\left(Q^{2} + a^{2} \\cos^{2}{\\left(θ \\right)} + r^{2}\\right)^{2}} + 1$"
      ],
      "text/plain": [
       "           _________________                       -1.5      2 ⎛ 2    2       \n",
       "          ╱  2    2       2  ⎛ 2    2    2       2⎞         Q ⋅⎝a ⋅cos (θ) + r\n",
       "- 2⋅M⋅r⋅╲╱  a ⋅cos (θ) + r  ⋅⎝Q  + a ⋅cos (θ) + r ⎠     + ────────────────────\n",
       "                                                                              \n",
       "                                                          ⎛ 2    2    2       \n",
       "                                                          ⎝Q  + a ⋅cos (θ) + r\n",
       "\n",
       "2⎞     \n",
       " ⎠     \n",
       "─── + 1\n",
       "  2    \n",
       "2⎞     \n",
       " ⎠     "
      ]
     },
     "execution_count": 20,
     "metadata": {},
     "output_type": "execute_result"
    }
   ],
   "source": [
    "f1 = (1-(2*M*r*sp.sqrt(Σ))/((Σ+Q**2)**(3/2))+(Σ*Q**2)/((Σ+Q**2)**2))\n",
    "f1"
   ]
  },
  {
   "cell_type": "code",
   "execution_count": 21,
   "id": "835ff443",
   "metadata": {},
   "outputs": [
    {
     "data": {
      "image/png": "[encoded data removed]",
      "text/latex": [
       "$\\displaystyle - \\frac{2 M r \\sqrt{a^{2} \\cos^{2}{\\left(θ \\right)} + r^{2}}}{\\left(Q^{2} + a^{2} \\cos^{2}{\\left(θ \\right)} + r^{2}\\right)^{1.5}} + \\frac{Q^{2} \\left(a^{2} \\cos^{2}{\\left(θ \\right)} + r^{2}\\right)}{\\left(Q^{2} + a^{2} \\cos^{2}{\\left(θ \\right)} + r^{2}\\right)^{2}} + 1$"
      ],
      "text/plain": [
       "           _________________                       -1.5      2 ⎛ 2    2       \n",
       "          ╱  2    2       2  ⎛ 2    2    2       2⎞         Q ⋅⎝a ⋅cos (θ) + r\n",
       "- 2⋅M⋅r⋅╲╱  a ⋅cos (θ) + r  ⋅⎝Q  + a ⋅cos (θ) + r ⎠     + ────────────────────\n",
       "                                                                              \n",
       "                                                          ⎛ 2    2    2       \n",
       "                                                          ⎝Q  + a ⋅cos (θ) + r\n",
       "\n",
       "2⎞     \n",
       " ⎠     \n",
       "─── + 1\n",
       "  2    \n",
       "2⎞     \n",
       " ⎠     "
      ]
     },
     "execution_count": 21,
     "metadata": {},
     "output_type": "execute_result"
    }
   ],
   "source": [
    "gtt1 = f1 \n",
    "gtr1 = 0 \n",
    "gtθ1 = 0 \n",
    "gtϕ1 = (1-f1)*a*sp.sin(θ)**2\n",
    "\n",
    "gtt1"
   ]
  },
  {
   "cell_type": "code",
   "execution_count": 22,
   "id": "2a0f6601",
   "metadata": {},
   "outputs": [
    {
     "data": {
      "image/png": "[encoded data removed]",
      "text/latex": [
       "$\\displaystyle a \\left(\\frac{2 M r \\sqrt{a^{2} \\cos^{2}{\\left(θ \\right)} + r^{2}}}{\\left(Q^{2} + a^{2} \\cos^{2}{\\left(θ \\right)} + r^{2}\\right)^{1.5}} - \\frac{Q^{2} \\left(a^{2} \\cos^{2}{\\left(θ \\right)} + r^{2}\\right)}{\\left(Q^{2} + a^{2} \\cos^{2}{\\left(θ \\right)} + r^{2}\\right)^{2}}\\right) \\sin^{2}{\\left(θ \\right)}$"
      ],
      "text/plain": [
       "  ⎛         _________________                       -1.5      2 ⎛ 2    2      \n",
       "  ⎜        ╱  2    2       2  ⎛ 2    2    2       2⎞         Q ⋅⎝a ⋅cos (θ) + \n",
       "a⋅⎜2⋅M⋅r⋅╲╱  a ⋅cos (θ) + r  ⋅⎝Q  + a ⋅cos (θ) + r ⎠     - ───────────────────\n",
       "  ⎜                                                                           \n",
       "  ⎜                                                        ⎛ 2    2    2      \n",
       "  ⎝                                                        ⎝Q  + a ⋅cos (θ) + \n",
       "\n",
       " 2⎞ ⎞        \n",
       "r ⎠ ⎟    2   \n",
       "────⎟⋅sin (θ)\n",
       "   2⎟        \n",
       " 2⎞ ⎟        \n",
       "r ⎠ ⎠        "
      ]
     },
     "execution_count": 22,
     "metadata": {},
     "output_type": "execute_result"
    }
   ],
   "source": [
    "gtϕ1"
   ]
  },
  {
   "cell_type": "code",
   "execution_count": 23,
   "id": "0efa3088",
   "metadata": {},
   "outputs": [
    {
     "data": {
      "image/png": "[encoded data removed]",
      "text/latex": [
       "$\\displaystyle \\frac{a^{2} \\cos^{2}{\\left(θ \\right)} + r^{2}}{2 a^{2} \\sin{\\left(θ \\right)} + \\left(a^{2} \\cos^{2}{\\left(θ \\right)} + r^{2}\\right) \\left(- \\frac{2 M r \\sqrt{a^{2} \\cos^{2}{\\left(θ \\right)} + r^{2}}}{\\left(Q^{2} + a^{2} \\cos^{2}{\\left(θ \\right)} + r^{2}\\right)^{1.5}} + \\frac{Q^{2} \\left(a^{2} \\cos^{2}{\\left(θ \\right)} + r^{2}\\right)}{\\left(Q^{2} + a^{2} \\cos^{2}{\\left(θ \\right)} + r^{2}\\right)^{2}} + 1\\right)}$"
      ],
      "text/plain": [
       "                                                     2    2       2           \n",
       "                                                    a ⋅cos (θ) + r            \n",
       "──────────────────────────────────────────────────────────────────────────────\n",
       "                                ⎛           _________________                 \n",
       "   2          ⎛ 2    2       2⎞ ⎜          ╱  2    2       2  ⎛ 2    2    2   \n",
       "2⋅a ⋅sin(θ) + ⎝a ⋅cos (θ) + r ⎠⋅⎜- 2⋅M⋅r⋅╲╱  a ⋅cos (θ) + r  ⋅⎝Q  + a ⋅cos (θ)\n",
       "                                ⎜                                             \n",
       "                                ⎜                                             \n",
       "                                ⎝                                             \n",
       "\n",
       "                                         \n",
       "                                         \n",
       "─────────────────────────────────────────\n",
       "      -1.5      2 ⎛ 2    2       2⎞     ⎞\n",
       "    2⎞         Q ⋅⎝a ⋅cos (θ) + r ⎠     ⎟\n",
       " + r ⎠     + ─────────────────────── + 1⎟\n",
       "                                   2    ⎟\n",
       "             ⎛ 2    2    2       2⎞     ⎟\n",
       "             ⎝Q  + a ⋅cos (θ) + r ⎠     ⎠"
      ]
     },
     "execution_count": 23,
     "metadata": {},
     "output_type": "execute_result"
    }
   ],
   "source": [
    "grt1 = 0\n",
    "grr1 = Σ/(Σ*f1 + a**2* sp.sin(θ)*2) \n",
    "grθ1 = 0\n",
    "grϕ1 = 0\n",
    "\n",
    "grr1"
   ]
  },
  {
   "cell_type": "code",
   "execution_count": 24,
   "id": "74b6630c",
   "metadata": {},
   "outputs": [
    {
     "data": {
      "image/png": "[encoded data removed]",
      "text/latex": [
       "$\\displaystyle a^{2} \\cos^{2}{\\left(θ \\right)} + r^{2}$"
      ],
      "text/plain": [
       " 2    2       2\n",
       "a ⋅cos (θ) + r "
      ]
     },
     "execution_count": 24,
     "metadata": {},
     "output_type": "execute_result"
    }
   ],
   "source": [
    "gθt1 = 0\n",
    "gθr1 = 0\n",
    "gθθ1 = Σ\n",
    "gθϕ1 = 0\n",
    "\n",
    "gθθ1"
   ]
  },
  {
   "cell_type": "code",
   "execution_count": 25,
   "id": "6ea15572",
   "metadata": {},
   "outputs": [
    {
     "data": {
      "image/png": "[encoded data removed]",
      "text/latex": [
       "$\\displaystyle a \\left(\\frac{2 M r \\sqrt{a^{2} \\cos^{2}{\\left(θ \\right)} + r^{2}}}{\\left(Q^{2} + a^{2} \\cos^{2}{\\left(θ \\right)} + r^{2}\\right)^{1.5}} - \\frac{Q^{2} \\left(a^{2} \\cos^{2}{\\left(θ \\right)} + r^{2}\\right)}{\\left(Q^{2} + a^{2} \\cos^{2}{\\left(θ \\right)} + r^{2}\\right)^{2}}\\right) \\sin^{2}{\\left(θ \\right)}$"
      ],
      "text/plain": [
       "  ⎛         _________________                       -1.5      2 ⎛ 2    2      \n",
       "  ⎜        ╱  2    2       2  ⎛ 2    2    2       2⎞         Q ⋅⎝a ⋅cos (θ) + \n",
       "a⋅⎜2⋅M⋅r⋅╲╱  a ⋅cos (θ) + r  ⋅⎝Q  + a ⋅cos (θ) + r ⎠     - ───────────────────\n",
       "  ⎜                                                                           \n",
       "  ⎜                                                        ⎛ 2    2    2      \n",
       "  ⎝                                                        ⎝Q  + a ⋅cos (θ) + \n",
       "\n",
       " 2⎞ ⎞        \n",
       "r ⎠ ⎟    2   \n",
       "────⎟⋅sin (θ)\n",
       "   2⎟        \n",
       " 2⎞ ⎟        \n",
       "r ⎠ ⎠        "
      ]
     },
     "execution_count": 25,
     "metadata": {},
     "output_type": "execute_result"
    }
   ],
   "source": [
    "gφt1 = gtφ1 \n",
    "gφr1 = 0 \n",
    "gφθ1 = 0 \n",
    "gϕϕ1 = (Σ - a**2 * sp.sin(θ)**2 *(f1-2))* sp.sin(θ)**2 \n",
    "\n",
    "gϕt1"
   ]
  },
  {
   "cell_type": "code",
   "execution_count": 26,
   "id": "85188495",
   "metadata": {},
   "outputs": [
    {
     "data": {
      "image/png": "[encoded data removed]",
      "text/latex": [
       "$\\displaystyle \\left(- a^{2} \\left(- \\frac{2 M r \\sqrt{a^{2} \\cos^{2}{\\left(θ \\right)} + r^{2}}}{\\left(Q^{2} + a^{2} \\cos^{2}{\\left(θ \\right)} + r^{2}\\right)^{1.5}} + \\frac{Q^{2} \\left(a^{2} \\cos^{2}{\\left(θ \\right)} + r^{2}\\right)}{\\left(Q^{2} + a^{2} \\cos^{2}{\\left(θ \\right)} + r^{2}\\right)^{2}} - 1\\right) \\sin^{2}{\\left(θ \\right)} + a^{2} \\cos^{2}{\\left(θ \\right)} + r^{2}\\right) \\sin^{2}{\\left(θ \\right)}$"
      ],
      "text/plain": [
       "⎛     ⎛           _________________                       -1.5      2 ⎛ 2    2\n",
       "⎜   2 ⎜          ╱  2    2       2  ⎛ 2    2    2       2⎞         Q ⋅⎝a ⋅cos \n",
       "⎜- a ⋅⎜- 2⋅M⋅r⋅╲╱  a ⋅cos (θ) + r  ⋅⎝Q  + a ⋅cos (θ) + r ⎠     + ─────────────\n",
       "⎜     ⎜                                                                       \n",
       "⎜     ⎜                                                          ⎛ 2    2    2\n",
       "⎝     ⎝                                                          ⎝Q  + a ⋅cos \n",
       "\n",
       "       2⎞     ⎞                          ⎞        \n",
       "(θ) + r ⎠     ⎟    2       2    2       2⎟    2   \n",
       "────────── - 1⎟⋅sin (θ) + a ⋅cos (θ) + r ⎟⋅sin (θ)\n",
       "         2    ⎟                          ⎟        \n",
       "       2⎞     ⎟                          ⎟        \n",
       "(θ) + r ⎠     ⎠                          ⎠        "
      ]
     },
     "execution_count": 26,
     "metadata": {},
     "output_type": "execute_result"
    }
   ],
   "source": [
    "gφφ1"
   ]
  },
  {
   "cell_type": "code",
   "execution_count": null,
   "id": "82e77347",
   "metadata": {},
   "outputs": [],
   "source": []
  }
 ],
 "metadata": {
  "kernelspec": {
   "display_name": "Python 3 (ipykernel)",
   "language": "python",
   "name": "python3"
  },
  "language_info": {
   "codemirror_mode": {
    "name": "ipython",
    "version": 3
   },
   "file_extension": ".py",
   "mimetype": "text/x-python",
   "name": "python",
   "nbconvert_exporter": "python",
   "pygments_lexer": "ipython3",
   "version": "3.9.12"
  },
  "varInspector": {
   "cols": {
    "lenName": 16,
    "lenType": 16,
    "lenVar": 40
   },
   "kernels_config": {
    "python": {
     "delete_cmd_postfix": "",
     "delete_cmd_prefix": "del ",
     "library": "var_list.py",
     "varRefreshCmd": "print(var_dic_list())"
    },
    "r": {
     "delete_cmd_postfix": ") ",
     "delete_cmd_prefix": "rm(",
     "library": "var_list.r",
     "varRefreshCmd": "cat(var_dic_list()) "
    }
   },
   "types_to_exclude": [
    "module",
    "function",
    "builtin_function_or_method",
    "instance",
    "_Feature"
   ],
   "window_display": false
  }
 },
 "nbformat": 4,
 "nbformat_minor": 5
}
