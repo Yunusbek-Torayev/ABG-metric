{
 "cells": [
  {
   "cell_type": "code",
   "execution_count": 1,
   "id": "fcb803dd",
   "metadata": {},
   "outputs": [],
   "source": [
    "import numpy as np\n",
    "import sympy as sp \n",
    "import matplotlib.pyplot as plt"
   ]
  },
  {
   "cell_type": "code",
   "execution_count": 2,
   "id": "88d7e8a3",
   "metadata": {},
   "outputs": [],
   "source": [
    "r,θ,ϕ,M,Q,L = sp.symbols('r,θ,ϕ,M,Q,L') "
   ]
  },
  {
   "cell_type": "code",
   "execution_count": 3,
   "id": "08ce812f",
   "metadata": {},
   "outputs": [
    {
     "data": {
      "text/latex": [
       "$\\displaystyle Q r^{4} \\cdot \\left(\\frac{7.5 M}{\\left(Q^{2} + r^{2}\\right)^{3.5}} + \\frac{- 5 Q^{2} + r^{2}}{\\left(Q^{2} + r^{2}\\right)^{4}}\\right)$"
      ],
      "text/plain": [
       "Q*r**4*(7.5*M/(Q**2 + r**2)**3.5 + (-5*Q**2 + r**2)/(Q**2 + r**2)**4)"
      ]
     },
     "execution_count": 3,
     "metadata": {},
     "output_type": "execute_result"
    }
   ],
   "source": [
    "E = Q*r**4*((r**2 - 5*Q**2)/(r**2+Q**2)**4 + 7.5*M/(r**2+Q**2)**3.5)\n",
    "E"
   ]
  },
  {
   "cell_type": "code",
   "execution_count": 4,
   "id": "b47f8c16",
   "metadata": {},
   "outputs": [
    {
     "name": "stdout",
     "output_type": "stream",
     "text": [
      "0.1*r**4*((r**2 - 0.05)/(r**2 + 0.01)**4 + 7.5/(r**2 + 0.01)**3.5)\n",
      "0.3*r**4*((r**2 - 0.45)/(r**2 + 0.09)**4 + 7.5/(r**2 + 0.09)**3.5)\n",
      "0.6*r**4*((r**2 - 1.8)/(r**2 + 0.36)**4 + 7.5/(r**2 + 0.36)**3.5)\n"
     ]
    }
   ],
   "source": [
    "E1 = (E.subs(M,1)).subs(Q,0.1)\n",
    "E2 = (E.subs(M,1)).subs(Q,0.3)\n",
    "E3 = (E.subs(M,1)).subs(Q,0.6)\n",
    "\n",
    "print(E1)\n",
    "print(E2)\n",
    "print(E3)"
   ]
  },
  {
   "cell_type": "code",
   "execution_count": 5,
   "id": "91aaf425",
   "metadata": {},
   "outputs": [
    {
     "data": {
      "image/png": "[encoded data removed]",
      "text/plain": [
       "<Figure size 432x288 with 1 Axes>"
      ]
     },
     "metadata": {
      "needs_background": "light"
     },
     "output_type": "display_data"
    }
   ],
   "source": [
    "r = np.linspace(0,5,1000)\n",
    "\n",
    "E1 = 0.1*r**4*((r**2 - 0.05)/(r**2 + 0.01)**4 + 7.5/(r**2 + 0.01)**3.5)\n",
    "E2 = 0.3*r**4*((r**2 - 0.45)/(r**2 + 0.09)**4 + 7.5/(r**2 + 0.09)**3.5)\n",
    "E3 = 0.6*r**4*((r**2 - 1.8)/(r**2 + 0.36)**4 + 7.5/(r**2 + 0.36)**3.5)\n",
    "\n",
    "#plt.figure(figsize=(8,5), dpi=200)\n",
    "\n",
    "\n",
    "ax = plt.axes()\n",
    "#ax.set(facecolor = \"azure\")\n",
    "\n",
    "plt.xlabel(\"r/M\")\n",
    "plt.ylabel(\"$E_r$\")\n",
    "plt.grid(True)\n",
    "\n",
    "plt.xlim(0,4)\n",
    "plt.ylim(0,8)\n",
    "\n",
    "plt.xticks(np.arange(0, 5, step=1))\n",
    "\n",
    "\n",
    "plt.plot(r,E1, '--', label=\"Q=0.2\", color='red', lw='1.2')\n",
    "plt.plot(r,E2, '--', label=\"Q=0.3\", color='green', lw='1.2')\n",
    "plt.plot(r,E3, '--', label=\"Q=0.5\", color='blue', lw='1.2' )\n",
    "\n",
    "plt.legend(loc=\"upper right\")\n",
    "\n",
    "plt.show()\n",
    "\n"
   ]
  },
  {
   "cell_type": "code",
   "execution_count": null,
   "id": "3fae65f5",
   "metadata": {},
   "outputs": [],
   "source": []
  }
 ],
 "metadata": {
  "kernelspec": {
   "display_name": "Python 3 (ipykernel)",
   "language": "python",
   "name": "python3"
  },
  "language_info": {
   "codemirror_mode": {
    "name": "ipython",
    "version": 3
   },
   "file_extension": ".py",
   "mimetype": "text/x-python",
   "name": "python",
   "nbconvert_exporter": "python",
   "pygments_lexer": "ipython3",
   "version": "3.9.12"
  }
 },
 "nbformat": 4,
 "nbformat_minor": 5
}
