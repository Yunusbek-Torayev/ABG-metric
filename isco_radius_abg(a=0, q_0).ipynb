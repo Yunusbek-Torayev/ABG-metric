{
 "cells": [
  {
   "cell_type": "code",
   "execution_count": 1,
   "id": "40190c0a",
   "metadata": {},
   "outputs": [],
   "source": [
    "import numpy as np\n",
    "import sympy as sp \n",
    "sp.init_printing()\n",
    "import matplotlib.pyplot as plt"
   ]
  },
  {
   "cell_type": "code",
   "execution_count": 2,
   "id": "515e957b",
   "metadata": {},
   "outputs": [],
   "source": [
    "r,θ,ϕ,M,q,L,Q = sp.symbols('r,θ,ϕ,M,q,L,Q')"
   ]
  },
  {
   "cell_type": "code",
   "execution_count": 3,
   "id": "51703d5c",
   "metadata": {},
   "outputs": [
    {
     "data": {
      "image/png": "[encoded data removed]",
      "text/latex": [
       "$\\displaystyle - \\frac{3 M}{2 Q} + \\frac{\\frac{3 M \\sqrt{\\frac{Q^{2}}{r^{2}} + 1}}{2 Q} - \\frac{Q}{r}}{\\left(\\frac{Q^{2}}{r^{2}} + 1\\right)^{3}}$"
      ],
      "text/plain": [
       "                  ________    \n",
       "                 ╱  2         \n",
       "                ╱  Q          \n",
       "        3⋅M⋅   ╱   ── + 1     \n",
       "              ╱     2         \n",
       "            ╲╱     r         Q\n",
       "        ────────────────── - ─\n",
       "  3⋅M          2⋅Q           r\n",
       "- ─── + ──────────────────────\n",
       "  2⋅Q                 3       \n",
       "              ⎛ 2    ⎞        \n",
       "              ⎜Q     ⎟        \n",
       "              ⎜── + 1⎟        \n",
       "              ⎜ 2    ⎟        \n",
       "              ⎝r     ⎠        "
      ]
     },
     "execution_count": 3,
     "metadata": {},
     "output_type": "execute_result"
    }
   ],
   "source": [
    "A = ((3*M/(2*Q))*sp.sqrt(1+Q**2/r**2)-Q/r)*(1+Q**2/r**2)**(-3) - (3*M/(2*Q))\n",
    "A"
   ]
  },
  {
   "cell_type": "code",
   "execution_count": 4,
   "id": "300a6205",
   "metadata": {},
   "outputs": [
    {
     "data": {
      "image/png": "[encoded data removed]",
      "text/latex": [
       "$\\displaystyle q \\left(- \\frac{3 M}{2 Q} + \\frac{\\frac{3 M \\sqrt{\\frac{Q^{2}}{r^{2}} + 1}}{2 Q} - \\frac{Q}{r}}{\\left(\\frac{Q^{2}}{r^{2}} + 1\\right)^{3}}\\right) + \\sqrt{\\left(\\frac{L^{2}}{r^{2}} + 1\\right) \\left(- \\frac{2 M r^{2}}{\\left(Q^{2} + r^{2}\\right)^{2}} + \\frac{Q^{2} r^{2}}{\\left(Q^{2} + r^{2}\\right)^{2}} + 1\\right)}$"
      ],
      "text/plain": [
       "  ⎛                  ________    ⎞                                            \n",
       "  ⎜                 ╱  2         ⎟                                            \n",
       "  ⎜                ╱  Q          ⎟                                            \n",
       "  ⎜        3⋅M⋅   ╱   ── + 1     ⎟                                            \n",
       "  ⎜              ╱     2         ⎟                                            \n",
       "  ⎜            ╲╱     r         Q⎟          __________________________________\n",
       "  ⎜        ────────────────── - ─⎟         ╱ ⎛ 2    ⎞ ⎛         2        2  2 \n",
       "  ⎜  3⋅M          2⋅Q           r⎟        ╱  ⎜L     ⎟ ⎜    2⋅M⋅r        Q ⋅r  \n",
       "q⋅⎜- ─── + ──────────────────────⎟ +     ╱   ⎜── + 1⎟⋅⎜- ────────── + ────────\n",
       "  ⎜  2⋅Q                 3       ⎟      ╱    ⎜ 2    ⎟ ⎜           2           \n",
       "  ⎜              ⎛ 2    ⎞        ⎟     ╱     ⎝r     ⎠ ⎜  ⎛ 2    2⎞    ⎛ 2    2\n",
       "  ⎜              ⎜Q     ⎟        ⎟   ╲╱               ⎝  ⎝Q  + r ⎠    ⎝Q  + r \n",
       "  ⎜              ⎜── + 1⎟        ⎟                                            \n",
       "  ⎜              ⎜ 2    ⎟        ⎟                                            \n",
       "  ⎝              ⎝r     ⎠        ⎠                                            \n",
       "\n",
       "        \n",
       "        \n",
       "        \n",
       "        \n",
       "        \n",
       "________\n",
       "      ⎞ \n",
       "      ⎟ \n",
       "── + 1⎟ \n",
       " 2    ⎟ \n",
       "⎞     ⎟ \n",
       "⎠     ⎠ \n",
       "        \n",
       "        \n",
       "        "
      ]
     },
     "execution_count": 4,
     "metadata": {},
     "output_type": "execute_result"
    }
   ],
   "source": [
    "Eff = q*A + sp.sqrt((1-2*M*r**2/((r**2+Q**2)**2)+r**2*Q**2/((r**2+Q**2)**2))*(1+L**2/r**2))\n",
    "Eff"
   ]
  },
  {
   "cell_type": "code",
   "execution_count": 5,
   "id": "3ce2f196",
   "metadata": {},
   "outputs": [
    {
     "name": "stdout",
     "output_type": "stream",
     "text": [
      "(1 - 2/r**2)*(1 + 25/r**2)\n",
      "(1 + 25/r**2)*(-1.91*r**2/(r**2 + 0.09)**2 + 1)\n",
      "(1 + 25/r**2)*(-1.64*r**2/(r**2 + 0.36)**2 + 1)\n"
     ]
    }
   ],
   "source": [
    "Eff1 = (((( (1-2*M*r**2/((r**2+Q**2)**2)+r**2*Q**2/((r**2+Q**2)**2))*(1+L**2/r**2) ).subs(M,1)).subs(Q,0)).subs(L,5)).subs(q,0.3)\n",
    "Eff2 = (((( (1-2*M*r**2/((r**2+Q**2)**2)+r**2*Q**2/((r**2+Q**2)**2))*(1+L**2/r**2) ).subs(M,1)).subs(Q,0.3)).subs(L,5)).subs(q,0.3)\n",
    "Eff3 = (((( (1-2*M*r**2/((r**2+Q**2)**2)+r**2*Q**2/((r**2+Q**2)**2))*(1+L**2/r**2) ).subs(M,1)).subs(Q,0.6)).subs(L,5)).subs(q,0.3)\n",
    "\n",
    "print(Eff1)\n",
    "print(Eff2)\n",
    "print(Eff3)"
   ]
  },
  {
   "cell_type": "code",
   "execution_count": 6,
   "id": "50792007",
   "metadata": {},
   "outputs": [],
   "source": [
    "Eff1 = (1 - 2/r**2)*(1 + 25/r**2)\n",
    "Eff2 = (1 + 25/r**2)*(-1.91*r**2/(r**2 + 0.09)**2 + 1)\n",
    "Eff3 = (1 + 25/r**2)*(-1.64*r**2/(r**2 + 0.36)**2 + 1)"
   ]
  },
  {
   "cell_type": "code",
   "execution_count": 7,
   "id": "ad6667fd",
   "metadata": {},
   "outputs": [
    {
     "name": "stdout",
     "output_type": "stream",
     "text": [
      "2*(69*r**2 - 500)/r**6\n"
     ]
    }
   ],
   "source": [
    "ddEff1 = sp.diff(Eff1,r,2)\n",
    "s1 = sp.simplify(ddEff1)\n",
    "print(s1)"
   ]
  },
  {
   "cell_type": "code",
   "execution_count": 8,
   "id": "be31a660",
   "metadata": {},
   "outputs": [
    {
     "name": "stdout",
     "output_type": "stream",
     "text": [
      "(138.54*r**10 - 885.781*r**8 - 56.393406*r**6 + 2.63781522*r**4 + 0.0492075*r**2 + 0.000885735)/(r**4*(1.0*r**10 + 0.45*r**8 + 0.081*r**6 + 0.00729*r**4 + 0.00032805*r**2 + 5.9049e-6))\n"
     ]
    }
   ],
   "source": [
    "ddEff2 = sp.diff(Eff2,r,2)\n",
    "s2 = sp.simplify(ddEff2)\n",
    "print(s2)"
   ]
  },
  {
   "cell_type": "code",
   "execution_count": 9,
   "id": "43a9fd66",
   "metadata": {},
   "outputs": [
    {
     "name": "stdout",
     "output_type": "stream",
     "text": [
      "(140.16*r**10 - 544.096*r**8 - 38.7843840000001*r**6 + 91.08536832*r**4 + 12.59712*r**2 + 0.90699264)/(r**4*(1.0*r**10 + 1.8*r**8 + 1.296*r**6 + 0.46656*r**4 + 0.0839808*r**2 + 0.0060466176))\n"
     ]
    }
   ],
   "source": [
    "ddEff3 = sp.diff(Eff3,r,2)\n",
    "s3 = sp.simplify(ddEff3)\n",
    "print(s3)"
   ]
  },
  {
   "cell_type": "code",
   "execution_count": 10,
   "id": "0572a121",
   "metadata": {},
   "outputs": [],
   "source": [
    "ddEff1 = 2*(69*r**2 - 500)/r**6\n",
    "ddEff2 = (138.54*r**10 - 885.781*r**8 - 56.393406*r**6 + 2.63781522*r**4 + 0.0492075*r**2 + 0.000885735)/(r**4*(1.0*r**10 + 0.45*r**8 + 0.081*r**6 + 0.00729*r**4 + 0.00032805*r**2))\n",
    "ddEff3 = (140.16*r**10 - 544.096*r**8 - 38.7843840000001*r**6 + 91.08536832*r**4 + 12.59712*r**2 + 0.90699264)/(r**4*(1.0*r**10 + 1.8*r**8 + 1.296*r**6 + 0.46656*r**4 + 0.0839808*r**2 + 0.0060466176))"
   ]
  },
  {
   "cell_type": "code",
   "execution_count": 11,
   "id": "791a5004",
   "metadata": {},
   "outputs": [
    {
     "name": "stderr",
     "output_type": "stream",
     "text": [
      "/tmp/ipykernel_14144/2649563426.py:3: RuntimeWarning: divide by zero encountered in true_divide\n",
      "  ddEff1 = 2*(69*r**2 - 500)/r**6\n",
      "/tmp/ipykernel_14144/2649563426.py:4: RuntimeWarning: divide by zero encountered in true_divide\n",
      "  ddEff2 = (138.54*r**10 - 885.781*r**8 - 56.393406*r**6 + 2.63781522*r**4 + 0.0492075*r**2 + 0.000885735)/(r**4*(1.0*r**10 + 0.45*r**8 + 0.081*r**6 + 0.00729*r**4 + 0.00032805*r**2))\n",
      "/tmp/ipykernel_14144/2649563426.py:5: RuntimeWarning: divide by zero encountered in true_divide\n",
      "  ddEff3 = (140.16*r**10 - 544.096*r**8 - 38.7843840000001*r**6 + 91.08536832*r**4 + 12.59712*r**2 + 0.90699264)/(r**4*(1.0*r**10 + 1.8*r**8 + 1.296*r**6 + 0.46656*r**4 + 0.0839808*r**2 + 0.0060466176))\n"
     ]
    },
    {
     "data": {
      "image/png": "[encoded data removed]",
      "text/plain": [
       "<Figure size 432x288 with 1 Axes>"
      ]
     },
     "metadata": {
      "needs_background": "light"
     },
     "output_type": "display_data"
    }
   ],
   "source": [
    "r = np.linspace(0,4,1000)\n",
    "\n",
    "ddEff1 = 2*(69*r**2 - 500)/r**6\n",
    "ddEff2 = (138.54*r**10 - 885.781*r**8 - 56.393406*r**6 + 2.63781522*r**4 + 0.0492075*r**2 + 0.000885735)/(r**4*(1.0*r**10 + 0.45*r**8 + 0.081*r**6 + 0.00729*r**4 + 0.00032805*r**2))\n",
    "ddEff3 = (140.16*r**10 - 544.096*r**8 - 38.7843840000001*r**6 + 91.08536832*r**4 + 12.59712*r**2 + 0.90699264)/(r**4*(1.0*r**10 + 1.8*r**8 + 1.296*r**6 + 0.46656*r**4 + 0.0839808*r**2 + 0.0060466176))\n",
    "\n",
    "#plt.figure(figsize=(8,5), dpi=200)\n",
    "\n",
    "ax = plt.axes()\n",
    "#ax.set(facecolor = \"azure\")\n",
    "\n",
    "plt.title(\"ISCO for different Q \")\n",
    "\n",
    "plt.xlabel(\"r/M\")\n",
    "plt.ylabel(\"$d^2E/ dr^2$\")\n",
    "plt.grid(True)\n",
    "\n",
    "plt.xlim(1.5,4)\n",
    "plt.ylim(-4,2)\n",
    "\n",
    "#plt.xticks(np.arange(0.5, 4, step=1))\n",
    "#plt.yticks(np.arange(-3, 7, step=1))\n",
    "\n",
    "\n",
    "plt.plot(r,ddEff1, '--', label=\"Q=0\", color='red', lw='1.2')\n",
    "plt.plot(r,ddEff2, '--', label=\"Q=0.3\", color='green', lw='1.2')\n",
    "plt.plot(r,ddEff3, '--', label=\"Q=0.6\", color='blue', lw='1.2' )\n",
    "plt.axhline(color = 'k')\n",
    "\n",
    "plt.legend(loc=\"upper right\")\n",
    "\n",
    "plt.show()"
   ]
  },
  {
   "cell_type": "code",
   "execution_count": 12,
   "id": "94b91c90",
   "metadata": {},
   "outputs": [
    {
     "name": "stdout",
     "output_type": "stream",
     "text": [
      "2.6919095102903405\n"
     ]
    },
    {
     "data": {
      "image/png": "[encoded data removed]",
      "text/plain": [
       "<Figure size 432x288 with 1 Axes>"
      ]
     },
     "metadata": {
      "needs_background": "light"
     },
     "output_type": "display_data"
    }
   ],
   "source": [
    "# Eff1 dagi ISCO radius\n",
    "from scipy.optimize import brentq\n",
    "import matplotlib.pyplot as plt\n",
    "\n",
    "def f(r):\n",
    "    return 2*(69*r**2 - 500)/r**6\n",
    "\n",
    "r = np.linspace(2, 4, 100)\n",
    "plt.ylim(-4,2)\n",
    "plt.plot(r, f(r))\n",
    "plt.axhline(color = 'k')\n",
    "root, info = brentq(f, 2.5, 3, full_output=True)\n",
    "plt.axvline(x=root, color = 'r', **{'linestyle': 'dashed'})\n",
    "print(root)"
   ]
  },
  {
   "cell_type": "code",
   "execution_count": 13,
   "id": "e99569c0",
   "metadata": {},
   "outputs": [
    {
     "name": "stdout",
     "output_type": "stream",
     "text": [
      "2.5409199150280375\n"
     ]
    },
    {
     "data": {
      "image/png": "[encoded data removed]",
      "text/plain": [
       "<Figure size 432x288 with 1 Axes>"
      ]
     },
     "metadata": {
      "needs_background": "light"
     },
     "output_type": "display_data"
    }
   ],
   "source": [
    "# Eff2 dagi ISCO radius\n",
    "from scipy.optimize import brentq\n",
    "import matplotlib.pyplot as plt\n",
    "\n",
    "def f(r):\n",
    "    return (138.54*r**10 - 885.781*r**8 - 56.393406*r**6 + 2.63781522*r**4 + 0.0492075*r**2 + 0.000885735)/(r**4*(1.0*r**10 + 0.45*r**8 + 0.081*r**6 + 0.00729*r**4 + 0.00032805*r**2))\n",
    "\n",
    "r = np.linspace(2, 4, 100)\n",
    "plt.ylim(-4,2)\n",
    "plt.plot(r, f(r))\n",
    "plt.axhline(color = 'k')\n",
    "root, info = brentq(f, 2, 3, full_output=True)\n",
    "plt.axvline(x=root, color = 'r', **{'linestyle': 'dashed'})\n",
    "print(root)"
   ]
  },
  {
   "cell_type": "code",
   "execution_count": 14,
   "id": "b2294731",
   "metadata": {},
   "outputs": [
    {
     "name": "stdout",
     "output_type": "stream",
     "text": [
      "1.9770404617208328\n"
     ]
    },
    {
     "data": {
      "image/png": "[encoded data removed]",
      "text/plain": [
       "<Figure size 432x288 with 1 Axes>"
      ]
     },
     "metadata": {
      "needs_background": "light"
     },
     "output_type": "display_data"
    }
   ],
   "source": [
    "# Eff2 dagi ISCO radius\n",
    "from scipy.optimize import brentq\n",
    "import matplotlib.pyplot as plt\n",
    "\n",
    "def f(r):\n",
    "    return (140.16*r**10 - 544.096*r**8 - 38.7843840000001*r**6 + 91.08536832*r**4 + 12.59712*r**2 + 0.90699264)/(r**4*(1.0*r**10 + 1.8*r**8 + 1.296*r**6 + 0.46656*r**4 + 0.0839808*r**2 + 0.0060466176))\n",
    "r = np.linspace(1.5, 4, 100)\n",
    "plt.ylim(-4,2)\n",
    "plt.plot(r, f(r))\n",
    "plt.axhline(color = 'k')\n",
    "root, info = brentq(f, 1.5, 2.5, full_output=True)\n",
    "plt.axvline(x=root, color = 'r', **{'linestyle': 'dashed'})\n",
    "print(root)"
   ]
  },
  {
   "cell_type": "code",
   "execution_count": null,
   "id": "d3894f28",
   "metadata": {},
   "outputs": [],
   "source": []
  }
 ],
 "metadata": {
  "kernelspec": {
   "display_name": "Python 3 (ipykernel)",
   "language": "python",
   "name": "python3"
  },
  "language_info": {
   "codemirror_mode": {
    "name": "ipython",
    "version": 3
   },
   "file_extension": ".py",
   "mimetype": "text/x-python",
   "name": "python",
   "nbconvert_exporter": "python",
   "pygments_lexer": "ipython3",
   "version": "3.9.12"
  },
  "varInspector": {
   "cols": {
    "lenName": 16,
    "lenType": 16,
    "lenVar": 40
   },
   "kernels_config": {
    "python": {
     "delete_cmd_postfix": "",
     "delete_cmd_prefix": "del ",
     "library": "var_list.py",
     "varRefreshCmd": "print(var_dic_list())"
    },
    "r": {
     "delete_cmd_postfix": ") ",
     "delete_cmd_prefix": "rm(",
     "library": "var_list.r",
     "varRefreshCmd": "cat(var_dic_list()) "
    }
   },
   "types_to_exclude": [
    "module",
    "function",
    "builtin_function_or_method",
    "instance",
    "_Feature"
   ],
   "window_display": false
  }
 },
 "nbformat": 4,
 "nbformat_minor": 5
}
